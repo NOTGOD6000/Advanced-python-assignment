{
  "nbformat": 4,
  "nbformat_minor": 0,
  "metadata": {
    "colab": {
      "provenance": [],
      "authorship_tag": "ABX9TyO1yA/qoHzlRh82jQUajAea",
      "include_colab_link": true
    },
    "kernelspec": {
      "name": "python3",
      "display_name": "Python 3"
    },
    "language_info": {
      "name": "python"
    }
  },
  "cells": [
    {
      "cell_type": "markdown",
      "metadata": {
        "id": "view-in-github",
        "colab_type": "text"
      },
      "source": [
        "<a href=\"https://colab.research.google.com/github/NOTGOD6000/Advanced-python-assignment/blob/main/advanced%20python.ipynb\" target=\"_parent\"><img src=\"https://colab.research.google.com/assets/colab-badge.svg\" alt=\"Open In Colab\"/></a>"
      ]
    },
    {
      "cell_type": "markdown",
      "source": [
        "\n",
        "#Advance Python Assignments\n"
      ],
      "metadata": {
        "id": "luUz7wByeFFG"
      }
    },
    {
      "cell_type": "markdown",
      "source": [
        "Part I: Process Automation\n",
        "\n",
        "  Q1.Create a file that contains 1000 lines of random strings."
      ],
      "metadata": {
        "id": "OD0u0GhteJfu"
      }
    },
    {
      "cell_type": "code",
      "execution_count": 1,
      "metadata": {
        "id": "zor1iLcKddWd",
        "outputId": "f9f8e6af-e4db-4a10-930d-d3b0bf20fcf7",
        "colab": {
          "base_uri": "https://localhost:8080/"
        }
      },
      "outputs": [
        {
          "output_type": "stream",
          "name": "stdout",
          "text": [
            "File created successfully\n"
          ]
        }
      ],
      "source": [
        "import random\n",
        "import string\n",
        "\n",
        "file=open(\"random_string.txt\",\"w\")\n",
        "\n",
        "#loop to generate 1000 strings\n",
        "for i in range(1,1001) :\n",
        "  random_string=\"\"\n",
        "  for j in range(5) :\n",
        "     random_string += random.choice(string.ascii_letters)\n",
        "\n",
        "#after generating it writes them down\n",
        "file.write(random_string+\"\\n\")\n",
        "\n",
        "file.close()\n",
        "print(\"File created successfully\")"
      ]
    },
    {
      "cell_type": "markdown",
      "source": [
        "Q2.Create a file that contains multiple lines of random strings and file size must be 5 MB."
      ],
      "metadata": {
        "id": "ZSUUS16HkxK2"
      }
    },
    {
      "cell_type": "code",
      "source": [
        "import random\n",
        "import string\n",
        "\n",
        "file=open(\"random_string_size5mb.txt\",\"w\")\n",
        "\n",
        "#set the target size and current size\n",
        "target_size=5*1024*1024\n",
        "current_size=0\n",
        "\n",
        "#loop to generate and write and also to update current size\n",
        "while current_size<target_size : # < not<= to get as close as possible\n",
        "  random_stringnew=\"\"\n",
        "  for i in range(5) :\n",
        "     random_stringnew += random.choice(string.ascii_letters)\n",
        "\n",
        "  file.write(random_stringnew+\"\\n\")\n",
        "\n",
        "  current_size += len(random_stringnew) + 1\n",
        "\n",
        "file.close()\n",
        "print(\"File created successfully\")"
      ],
      "metadata": {
        "colab": {
          "base_uri": "https://localhost:8080/"
        },
        "id": "XpvFOOV8k1ay",
        "outputId": "ed0fba84-caa9-438c-d142-a63e544dd7d8"
      },
      "execution_count": 2,
      "outputs": [
        {
          "output_type": "stream",
          "name": "stdout",
          "text": [
            "File created successfully\n"
          ]
        }
      ]
    },
    {
      "cell_type": "markdown",
      "source": [
        "Q3.Create 10 files that contains multiple lines of random strings and file size of each file must be 5 MB."
      ],
      "metadata": {
        "id": "JUn3cOcNvOe4"
      }
    },
    {
      "cell_type": "code",
      "source": [
        "import string\n",
        "import random\n",
        "\n",
        "for i in range(10):\n",
        "    file = open(f\"file_{i}.txt\", \"w\")\n",
        "\n",
        "    # Set the target size and current size\n",
        "    target_size = 5 * 1024 * 1024  # 5 MB\n",
        "    current_size = 0\n",
        "\n",
        "    # Loop to generate random strings and write to the file\n",
        "    while current_size < target_size:  # '<' not '<=' to get as close as possible\n",
        "      random_stringnew = \"\"\n",
        "      for j in range(10):\n",
        "        random_stringnew += random.choice(string.ascii_letters)\n",
        "\n",
        "        # Write the random string with a newline\n",
        "      file.write(random_stringnew + \"\\n\")\n",
        "\n",
        "        # Update the current size (len + 1 for the newline character)\n",
        "      current_size += len(random_stringnew) + 1\n",
        "\n",
        "    # Close the file after finishing writing\n",
        "    file.close()\n",
        "\n",
        "print(\"Files created successfully\")\n"
      ],
      "metadata": {
        "colab": {
          "base_uri": "https://localhost:8080/"
        },
        "id": "xR-n856xvVEU",
        "outputId": "fc695333-7c2c-470c-fda6-b2f57950ce1f"
      },
      "execution_count": 6,
      "outputs": [
        {
          "output_type": "stream",
          "name": "stdout",
          "text": [
            "Files created successfully\n"
          ]
        }
      ]
    },
    {
      "cell_type": "markdown",
      "source": [
        "Q4. Create 5 files of size 1GB, 2GB, 3GB, 4GB and 5GB; file contains multiple lines of random strings."
      ],
      "metadata": {
        "id": "_OmVZTg40VRB"
      }
    },
    {
      "cell_type": "code",
      "source": [
        "#taking  too long un optimized\n",
        "import random\n",
        "import string\n",
        "\n",
        "for i in range(5):\n",
        "  file=open(f\"file_{i+1}gb.txt\",\"w\")\n",
        "\n",
        "  target_size=(i+1)*1024*1024*1024\n",
        "  current_size=0\n",
        "\n",
        "  while current_size<target_size :\n",
        "    random_stringnew=\"\"\n",
        "    for j in range(1000) :\n",
        "      random_stringnew += random.choice(string.ascii_letters)\n",
        "    file.write(random_stringnew+\"\\n\")\n",
        "    current_size += len(random_stringnew) + 1\n",
        "\n",
        "  file.close()\n",
        "print(\"Files created successfully\")"
      ],
      "metadata": {
        "id": "RCF4kaSX6Btp",
        "outputId": "1e00edcd-0319-4fcf-bfba-48b9a68623c3",
        "colab": {
          "base_uri": "https://localhost:8080/",
          "height": 356
        }
      },
      "execution_count": 7,
      "outputs": [
        {
          "output_type": "error",
          "ename": "KeyboardInterrupt",
          "evalue": "",
          "traceback": [
            "\u001b[0;31m---------------------------------------------------------------------------\u001b[0m",
            "\u001b[0;31mKeyboardInterrupt\u001b[0m                         Traceback (most recent call last)",
            "\u001b[0;32m<ipython-input-7-1208124962>\u001b[0m in \u001b[0;36m<cell line: 0>\u001b[0;34m()\u001b[0m\n\u001b[1;32m     12\u001b[0m     \u001b[0mrandom_stringnew\u001b[0m\u001b[0;34m=\u001b[0m\u001b[0;34m\"\"\u001b[0m\u001b[0;34m\u001b[0m\u001b[0;34m\u001b[0m\u001b[0m\n\u001b[1;32m     13\u001b[0m     \u001b[0;32mfor\u001b[0m \u001b[0mj\u001b[0m \u001b[0;32min\u001b[0m \u001b[0mrange\u001b[0m\u001b[0;34m(\u001b[0m\u001b[0;36m1000\u001b[0m\u001b[0;34m)\u001b[0m \u001b[0;34m:\u001b[0m\u001b[0;34m\u001b[0m\u001b[0;34m\u001b[0m\u001b[0m\n\u001b[0;32m---> 14\u001b[0;31m       \u001b[0mrandom_stringnew\u001b[0m \u001b[0;34m+=\u001b[0m \u001b[0mrandom\u001b[0m\u001b[0;34m.\u001b[0m\u001b[0mchoice\u001b[0m\u001b[0;34m(\u001b[0m\u001b[0mstring\u001b[0m\u001b[0;34m.\u001b[0m\u001b[0mascii_letters\u001b[0m\u001b[0;34m)\u001b[0m\u001b[0;34m\u001b[0m\u001b[0;34m\u001b[0m\u001b[0m\n\u001b[0m\u001b[1;32m     15\u001b[0m     \u001b[0mfile\u001b[0m\u001b[0;34m.\u001b[0m\u001b[0mwrite\u001b[0m\u001b[0;34m(\u001b[0m\u001b[0mrandom_stringnew\u001b[0m\u001b[0;34m+\u001b[0m\u001b[0;34m\"\\n\"\u001b[0m\u001b[0;34m)\u001b[0m\u001b[0;34m\u001b[0m\u001b[0;34m\u001b[0m\u001b[0m\n\u001b[1;32m     16\u001b[0m     \u001b[0mcurrent_size\u001b[0m \u001b[0;34m+=\u001b[0m \u001b[0mlen\u001b[0m\u001b[0;34m(\u001b[0m\u001b[0mrandom_stringnew\u001b[0m\u001b[0;34m)\u001b[0m \u001b[0;34m+\u001b[0m \u001b[0;36m1\u001b[0m\u001b[0;34m\u001b[0m\u001b[0;34m\u001b[0m\u001b[0m\n",
            "\u001b[0;32m/usr/lib/python3.11/random.py\u001b[0m in \u001b[0;36mchoice\u001b[0;34m(self, seq)\u001b[0m\n\u001b[1;32m    372\u001b[0m         \u001b[0;32mif\u001b[0m \u001b[0;32mnot\u001b[0m \u001b[0mlen\u001b[0m\u001b[0;34m(\u001b[0m\u001b[0mseq\u001b[0m\u001b[0;34m)\u001b[0m\u001b[0;34m:\u001b[0m\u001b[0;34m\u001b[0m\u001b[0;34m\u001b[0m\u001b[0m\n\u001b[1;32m    373\u001b[0m             \u001b[0;32mraise\u001b[0m \u001b[0mIndexError\u001b[0m\u001b[0;34m(\u001b[0m\u001b[0;34m'Cannot choose from an empty sequence'\u001b[0m\u001b[0;34m)\u001b[0m\u001b[0;34m\u001b[0m\u001b[0;34m\u001b[0m\u001b[0m\n\u001b[0;32m--> 374\u001b[0;31m         \u001b[0;32mreturn\u001b[0m \u001b[0mseq\u001b[0m\u001b[0;34m[\u001b[0m\u001b[0mself\u001b[0m\u001b[0;34m.\u001b[0m\u001b[0m_randbelow\u001b[0m\u001b[0;34m(\u001b[0m\u001b[0mlen\u001b[0m\u001b[0;34m(\u001b[0m\u001b[0mseq\u001b[0m\u001b[0;34m)\u001b[0m\u001b[0;34m)\u001b[0m\u001b[0;34m]\u001b[0m\u001b[0;34m\u001b[0m\u001b[0;34m\u001b[0m\u001b[0m\n\u001b[0m\u001b[1;32m    375\u001b[0m \u001b[0;34m\u001b[0m\u001b[0m\n\u001b[1;32m    376\u001b[0m     \u001b[0;32mdef\u001b[0m \u001b[0mshuffle\u001b[0m\u001b[0;34m(\u001b[0m\u001b[0mself\u001b[0m\u001b[0;34m,\u001b[0m \u001b[0mx\u001b[0m\u001b[0;34m)\u001b[0m\u001b[0;34m:\u001b[0m\u001b[0;34m\u001b[0m\u001b[0;34m\u001b[0m\u001b[0m\n",
            "\u001b[0;32m/usr/lib/python3.11/random.py\u001b[0m in \u001b[0;36m_randbelow_with_getrandbits\u001b[0;34m(self, n)\u001b[0m\n\u001b[1;32m    233\u001b[0m                 \u001b[0;32mbreak\u001b[0m\u001b[0;34m\u001b[0m\u001b[0;34m\u001b[0m\u001b[0m\n\u001b[1;32m    234\u001b[0m \u001b[0;34m\u001b[0m\u001b[0m\n\u001b[0;32m--> 235\u001b[0;31m     \u001b[0;32mdef\u001b[0m \u001b[0m_randbelow_with_getrandbits\u001b[0m\u001b[0;34m(\u001b[0m\u001b[0mself\u001b[0m\u001b[0;34m,\u001b[0m \u001b[0mn\u001b[0m\u001b[0;34m)\u001b[0m\u001b[0;34m:\u001b[0m\u001b[0;34m\u001b[0m\u001b[0;34m\u001b[0m\u001b[0m\n\u001b[0m\u001b[1;32m    236\u001b[0m         \u001b[0;34m\"Return a random int in the range [0,n).  Defined for n > 0.\"\u001b[0m\u001b[0;34m\u001b[0m\u001b[0;34m\u001b[0m\u001b[0m\n\u001b[1;32m    237\u001b[0m \u001b[0;34m\u001b[0m\u001b[0m\n",
            "\u001b[0;31mKeyboardInterrupt\u001b[0m: "
          ]
        }
      ]
    },
    {
      "cell_type": "markdown",
      "source": [
        "Q5. Convert all the files of Q4 into upper case one by one."
      ],
      "metadata": {
        "id": "bAG4W-EiCPYA"
      }
    },
    {
      "cell_type": "code",
      "source": [
        "#unfinished\n",
        "for i in range(5):\n",
        " with open(\"file_{i+1}gb.txt\", 'r') as data_file:\n",
        "\n",
        "    # open output.txt file in append mode\n",
        "    with open('output_{i+1}gb.txt', 'a') as output_file:\n",
        "\n",
        "        # read each line from data.txt\n",
        "        for line in data_file:\n",
        "\n",
        "            # change case for the line and write\n",
        "            # it into output file\n",
        "            output_file.write(line.upper())\n",
        "\n",
        "\n",
        ""
      ],
      "metadata": {
        "id": "r6Zlee5DBoO4"
      },
      "execution_count": null,
      "outputs": []
    }
  ]
}