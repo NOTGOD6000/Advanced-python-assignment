{
  "nbformat": 4,
  "nbformat_minor": 0,
  "metadata": {
    "colab": {
      "provenance": [],
      "authorship_tag": "ABX9TyMnSzUZKXG25bL9QMFCl6zQ",
      "include_colab_link": true
    },
    "kernelspec": {
      "name": "python3",
      "display_name": "Python 3"
    },
    "language_info": {
      "name": "python"
    }
  },
  "cells": [
    {
      "cell_type": "markdown",
      "metadata": {
        "id": "view-in-github",
        "colab_type": "text"
      },
      "source": [
        "<a href=\"https://colab.research.google.com/github/NOTGOD6000/Advanced-python-assignment/blob/main/advanced%20python.ipynb\" target=\"_parent\"><img src=\"https://colab.research.google.com/assets/colab-badge.svg\" alt=\"Open In Colab\"/></a>"
      ]
    },
    {
      "cell_type": "markdown",
      "source": [
        "\n",
        "#Advance Python Assignments\n"
      ],
      "metadata": {
        "id": "luUz7wByeFFG"
      }
    },
    {
      "cell_type": "markdown",
      "source": [
        "Part I: Process Automation\n",
        "\n",
        "  Q1.Create a file that contains 1000 lines of random strings."
      ],
      "metadata": {
        "id": "OD0u0GhteJfu"
      }
    },
    {
      "cell_type": "code",
      "execution_count": null,
      "metadata": {
        "id": "zor1iLcKddWd"
      },
      "outputs": [],
      "source": [
        "import random\n",
        "import string\n",
        "\n",
        "file=open(\"random_string.txt\",\"w\")\n",
        "\n",
        "#loop to generate 1000 strings\n",
        "for i in range(1,1001) :\n",
        "  random_string=\"\"\n",
        "  for j in range(5) :\n",
        "     random_string += random.choice(string.ascii_letters)\n",
        "\n",
        "#after generating it writes them down\n",
        "file.write(random_string+\"\\n\")\n",
        "\n",
        "file.close()\n",
        "print(\"File created successfully\")"
      ]
    },
    {
      "cell_type": "markdown",
      "source": [
        "Q2.Create a file that contains multiple lines of random strings and file size must be 5 MB."
      ],
      "metadata": {
        "id": "ZSUUS16HkxK2"
      }
    },
    {
      "cell_type": "code",
      "source": [
        "import random\n",
        "import string\n",
        "\n",
        "file=open(\"random_string_size5mb.txt\",\"w\")\n",
        "\n",
        "#set the target size and current size\n",
        "target_size=5*1024*1024\n",
        "current_size=0\n",
        "\n",
        "#loop to generate and write and also to update current size\n",
        "while current_size<target_size : # < not<= to get as close as possible\n",
        "  random_stringnew=\"\"\n",
        "  for i in range(5) :\n",
        "     random_stringnew += random.choice(string.ascii_letters)\n",
        "\n",
        "  file.write(random_stringnew+\"\\n\")\n",
        "\n",
        "  current_size += len(random_stringnew) + 1\n",
        "\n",
        "file.close()\n",
        "print(\"File created successfully\")"
      ],
      "metadata": {
        "colab": {
          "base_uri": "https://localhost:8080/"
        },
        "id": "XpvFOOV8k1ay",
        "outputId": "b7374cf5-dc70-4dbf-b865-e88b1e137ebb"
      },
      "execution_count": null,
      "outputs": [
        {
          "output_type": "stream",
          "name": "stdout",
          "text": [
            "File created successfully\n"
          ]
        }
      ]
    },
    {
      "cell_type": "markdown",
      "source": [
        "Q3.Create 10 files that contains multiple lines of random strings and file size of each file must be 5 MB."
      ],
      "metadata": {
        "id": "JUn3cOcNvOe4"
      }
    },
    {
      "cell_type": "code",
      "source": [
        "import string\n",
        "import random\n",
        "\n",
        "for i in range(10):\n",
        "    file = open(f\"file_{i}.txt\", \"w\")\n",
        "\n",
        "    # Set the target size and current size\n",
        "    target_size = 5 * 1024 * 1024  # 5 MB\n",
        "    current_size = 0\n",
        "\n",
        "    # Loop to generate random strings and write to the file\n",
        "    while current_size < target_size:  # '<' not '<=' to get as close as possible\n",
        "      random_stringnew = \"\"\n",
        "      for j in range(5):\n",
        "        random_stringnew += random.choice(string.ascii_letters)\n",
        "\n",
        "        # Write the random string with a newline\n",
        "        file.write(random_stringnew + \"\\n\")\n",
        "\n",
        "        # Update the current size (len + 1 for the newline character)\n",
        "        current_size += len(random_stringnew) + 1\n",
        "\n",
        "    # Close the file after finishing writing\n",
        "    file.close()\n",
        "\n",
        "print(\"Files created successfully\")\n"
      ],
      "metadata": {
        "colab": {
          "base_uri": "https://localhost:8080/"
        },
        "id": "xR-n856xvVEU",
        "outputId": "219f3290-6e14-40e0-8e5f-bce20aa3871a"
      },
      "execution_count": null,
      "outputs": [
        {
          "output_type": "stream",
          "name": "stdout",
          "text": [
            "Files created successfully\n"
          ]
        }
      ]
    },
    {
      "cell_type": "markdown",
      "source": [
        "Q4. Create 5 files of size 1GB, 2GB, 3GB, 4GB and 5GB; file contains multiple lines of random strings."
      ],
      "metadata": {
        "id": "_OmVZTg40VRB"
      }
    },
    {
      "cell_type": "code",
      "source": [
        "import random\n",
        "import string\n",
        "\n",
        "# Loop for creating files of sizes 1GB, 2GB, 3GB, 4GB, and 5GB\n",
        "for i in range(5):\n",
        "    # Open file for writing\n",
        "    with open(f\"file_{i+1}gb.txt\", \"w\") as file:\n",
        "        target_size = (i + 1) * 1024 * 1024 * 1024  # Target size in bytes\n",
        "        current_size = 0\n",
        "\n",
        "        # Loop to write random strings until the target size is reached\n",
        "        while current_size < target_size:\n",
        "            random_string = ''.join(random.choices(string.ascii_letters + string.digits, k=100)) + \"\\n\"\n",
        "\n",
        "            # Write the random string to the file\n",
        "            file.write(random_string)\n",
        "            current_size += len(random_string)  # Update the size after writing\n",
        "\n",
        "    print(f\"file_{i+1}gb.txt created with target size: {(current_size / (1024 * 1024 * 1024)):.2f} GB\")\n",
        "\n",
        "print(\"All files created successfully.\")\n"
      ],
      "metadata": {
        "id": "RCF4kaSX6Btp"
      },
      "execution_count": null,
      "outputs": []
    }
  ]
}